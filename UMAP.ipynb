{
 "cells": [
  {
   "cell_type": "code",
   "execution_count": 1,
   "id": "bef16251-7137-4bc1-ab9e-8dcb21f7c6f7",
   "metadata": {},
   "outputs": [],
   "source": [
    "import numpy as np  \n",
    "import umap.umap_ as umap\n",
    "from sklearn.model_selection import train_test_split  \n",
    "from sklearn.datasets import fetch_openml  \n",
    "from tensorflow.keras.models import Sequential  \n",
    "from tensorflow.keras.layers import Dense  \n",
    "from sklearn.metrics import confusion_matrix,classification_report"
   ]
  },
  {
   "cell_type": "code",
   "execution_count": 2,
   "id": "a8f7a11d-2b7f-4095-8992-b2f783f13758",
   "metadata": {},
   "outputs": [],
   "source": [
    "# Load dataset  \n",
    "mnist = fetch_openml('mnist_784', version=1)  \n",
    "X, y = mnist.data, mnist.target  \n",
    "\n",
    "# encode  \n",
    "y = np.array([label for label in y])  \n",
    "\n",
    "from tensorflow.keras.utils import to_categorical\n",
    "\n",
    "y = to_categorical(y) "
   ]
  },
  {
   "cell_type": "code",
   "execution_count": 3,
   "id": "94c448ce-c94a-4c98-af75-2e4281e9ca92",
   "metadata": {},
   "outputs": [],
   "source": [
    "# Using UMAP to reduce dimensions \n",
    "umap_model = umap.UMAP(n_components=50)\n",
    "X_umap = umap_model.fit_transform(X)  "
   ]
  },
  {
   "cell_type": "code",
   "execution_count": 4,
   "id": "763bdb22-47df-416e-9bcc-94c54eec1a19",
   "metadata": {},
   "outputs": [
    {
     "name": "stderr",
     "output_type": "stream",
     "text": [
      "d:\\Users\\Administrator\\AppData\\Local\\Programs\\Python\\Python311\\Lib\\site-packages\\keras\\src\\layers\\core\\dense.py:88: UserWarning: Do not pass an `input_shape`/`input_dim` argument to a layer. When using Sequential models, prefer using an `Input(shape)` object as the first layer in the model instead.\n",
      "  super().__init__(activity_regularizer=activity_regularizer, **kwargs)\n"
     ]
    }
   ],
   "source": [
    "# Split dataset  \n",
    "X_train, X_test, y_train, y_test = train_test_split(X_umap, y, test_size=0.2, random_state=42)  \n",
    "\n",
    "# Initialize model  \n",
    "model = Sequential()  \n",
    "model.add(Dense(128, input_dim=50, activation='relu'))  # define input_num=50\n",
    "model.add(Dense(10, activation='softmax'))  # define output classfication  "
   ]
  },
  {
   "cell_type": "code",
   "execution_count": 5,
   "id": "e0fd1d37-e829-4d47-aa61-f98d1813caf6",
   "metadata": {},
   "outputs": [],
   "source": [
    "# complie model \n",
    "model.compile(loss='categorical_crossentropy', optimizer='adam', metrics=['accuracy']) "
   ]
  },
  {
   "cell_type": "code",
   "execution_count": 6,
   "id": "c0162faa-f767-4194-b3f2-5a07baa5dfc1",
   "metadata": {},
   "outputs": [
    {
     "name": "stdout",
     "output_type": "stream",
     "text": [
      "Epoch 1/10\n",
      "\u001b[1m1750/1750\u001b[0m \u001b[32m━━━━━━━━━━━━━━━━━━━━\u001b[0m\u001b[37m\u001b[0m \u001b[1m6s\u001b[0m 2ms/step - accuracy: 0.7916 - loss: 0.8915 - val_accuracy: 0.9645 - val_loss: 0.2249\n",
      "Epoch 2/10\n",
      "\u001b[1m1750/1750\u001b[0m \u001b[32m━━━━━━━━━━━━━━━━━━━━\u001b[0m\u001b[37m\u001b[0m \u001b[1m4s\u001b[0m 2ms/step - accuracy: 0.9630 - loss: 0.2155 - val_accuracy: 0.9689 - val_loss: 0.1937\n",
      "Epoch 3/10\n",
      "\u001b[1m1750/1750\u001b[0m \u001b[32m━━━━━━━━━━━━━━━━━━━━\u001b[0m\u001b[37m\u001b[0m \u001b[1m5s\u001b[0m 2ms/step - accuracy: 0.9665 - loss: 0.1986 - val_accuracy: 0.9694 - val_loss: 0.1974\n",
      "Epoch 4/10\n",
      "\u001b[1m1750/1750\u001b[0m \u001b[32m━━━━━━━━━━━━━━━━━━━━\u001b[0m\u001b[37m\u001b[0m \u001b[1m4s\u001b[0m 2ms/step - accuracy: 0.9671 - loss: 0.1945 - val_accuracy: 0.9701 - val_loss: 0.2019\n",
      "Epoch 5/10\n",
      "\u001b[1m1750/1750\u001b[0m \u001b[32m━━━━━━━━━━━━━━━━━━━━\u001b[0m\u001b[37m\u001b[0m \u001b[1m4s\u001b[0m 2ms/step - accuracy: 0.9672 - loss: 0.1897 - val_accuracy: 0.9658 - val_loss: 0.2140\n",
      "Epoch 6/10\n",
      "\u001b[1m1750/1750\u001b[0m \u001b[32m━━━━━━━━━━━━━━━━━━━━\u001b[0m\u001b[37m\u001b[0m \u001b[1m4s\u001b[0m 2ms/step - accuracy: 0.9666 - loss: 0.1902 - val_accuracy: 0.9617 - val_loss: 0.2436\n",
      "Epoch 7/10\n",
      "\u001b[1m1750/1750\u001b[0m \u001b[32m━━━━━━━━━━━━━━━━━━━━\u001b[0m\u001b[37m\u001b[0m \u001b[1m4s\u001b[0m 2ms/step - accuracy: 0.9688 - loss: 0.1819 - val_accuracy: 0.9690 - val_loss: 0.1871\n",
      "Epoch 8/10\n",
      "\u001b[1m1750/1750\u001b[0m \u001b[32m━━━━━━━━━━━━━━━━━━━━\u001b[0m\u001b[37m\u001b[0m \u001b[1m4s\u001b[0m 2ms/step - accuracy: 0.9666 - loss: 0.1920 - val_accuracy: 0.9682 - val_loss: 0.1906\n",
      "Epoch 9/10\n",
      "\u001b[1m1750/1750\u001b[0m \u001b[32m━━━━━━━━━━━━━━━━━━━━\u001b[0m\u001b[37m\u001b[0m \u001b[1m4s\u001b[0m 2ms/step - accuracy: 0.9675 - loss: 0.1830 - val_accuracy: 0.9679 - val_loss: 0.1855\n",
      "Epoch 10/10\n",
      "\u001b[1m1750/1750\u001b[0m \u001b[32m━━━━━━━━━━━━━━━━━━━━\u001b[0m\u001b[37m\u001b[0m \u001b[1m6s\u001b[0m 2ms/step - accuracy: 0.9675 - loss: 0.1843 - val_accuracy: 0.9696 - val_loss: 0.1832\n"
     ]
    },
    {
     "data": {
      "text/plain": [
       "<keras.src.callbacks.history.History at 0x1a239420f10>"
      ]
     },
     "execution_count": 6,
     "metadata": {},
     "output_type": "execute_result"
    }
   ],
   "source": [
    "# train model  \n",
    "model.fit(X_train, y_train, epochs=10, batch_size=32, validation_data=(X_test, y_test))  "
   ]
  },
  {
   "cell_type": "code",
   "execution_count": 17,
   "id": "8e749657",
   "metadata": {},
   "outputs": [],
   "source": [
    "import tensorflow.saved_model  # save this model"
   ]
  },
  {
   "cell_type": "code",
   "execution_count": 21,
   "id": "98433e53",
   "metadata": {},
   "outputs": [
    {
     "name": "stdout",
     "output_type": "stream",
     "text": [
      "INFO:tensorflow:Assets written to: ./UMAP_pretrained\\assets\n"
     ]
    },
    {
     "name": "stderr",
     "output_type": "stream",
     "text": [
      "INFO:tensorflow:Assets written to: ./UMAP_pretrained\\assets\n"
     ]
    }
   ],
   "source": [
    "tensorflow.saved_model.save(model,'./UMAP_pretrained')"
   ]
  },
  {
   "cell_type": "code",
   "execution_count": 9,
   "id": "eb3aaedb-a2bd-471a-8a11-5ebdaf0fe479",
   "metadata": {},
   "outputs": [],
   "source": [
    "from PIL import Image\n",
    "import numpy as np\n",
    "import os"
   ]
  },
  {
   "cell_type": "code",
   "execution_count": 27,
   "id": "4b1ddb5b-a241-4c25-8867-b0f7c6331115",
   "metadata": {},
   "outputs": [],
   "source": [
    "# Define a image preprocess function \n",
    "def preprocess_image(image_path):  \n",
    "    image = Image.open(image_path).convert('L')    \n",
    "    image = image.resize((28, 28), Image.BILINEAR )  \n",
    "    image_array = np.array(image)  \n",
    "    return image_array  \n",
    "  \n",
    "#Define a dimension reduction function \n",
    "def reduce_dimensionality(image_array, umap_model):  \n",
    "    return umap_model.transform(image_array.reshape(1, -1))  \n",
    "  \n",
    "#Define a prediction function  \n",
    "def predict_image(image_path, umap_model, trained_model):  \n",
    "      \n",
    "    image_array = preprocess_image(image_path)  \n",
    "\n",
    "    reduced_image = reduce_dimensionality(image_array, umap_model)  \n",
    "        \n",
    "    prediction = trained_model.predict(reduced_image)  \n",
    "    predicted_class = np.argmax(prediction)  \n",
    "      \n",
    "    return predicted_class, prediction  "
   ]
  },
  {
   "cell_type": "code",
   "execution_count": 33,
   "id": "739f0b2e",
   "metadata": {},
   "outputs": [
    {
     "data": {
      "image/jpeg": "[encoded data removed]",
      "image/png": "[encoded data removed]",
      "text/plain": [
       "<PIL.JpegImagePlugin.JpegImageFile image mode=L size=28x28>"
      ]
     },
     "execution_count": 33,
     "metadata": {},
     "output_type": "execute_result"
    }
   ],
   "source": [
    "# Load a image randomly\n",
    "image_path = 'C:/Users/Administrator/Desktop/7&14_JUN_Deep learning/Individual Proposal/hw/img_5.jpg'\n",
    " \n",
    "Image.open(image_path)"
   ]
  },
  {
   "cell_type": "code",
   "execution_count": 34,
   "id": "8d17420e",
   "metadata": {},
   "outputs": [
    {
     "name": "stdout",
     "output_type": "stream",
     "text": [
      "\u001b[1m1/1\u001b[0m \u001b[32m━━━━━━━━━━━━━━━━━━━━\u001b[0m\u001b[37m\u001b[0m \u001b[1m0s\u001b[0m 48ms/step\n",
      "Predicted digital: 3\n",
      "Prediction probabilities: [[6.5268563e-05 1.5278711e-04 4.4366391e-03 9.8901165e-01 3.1571403e-06\n",
      "  2.7982860e-03 6.8009875e-05 9.2136666e-05 2.5106922e-03 8.6148229e-04]]\n"
     ]
    }
   ],
   "source": [
    "# Predict image\n",
    "predicted_class, prediction = predict_image(image_path, umap_model, model)  \n",
    "print(f\"Predicted digital: {predicted_class}\")  \n",
    "print(f\"Prediction probabilities: {prediction}\")"
   ]
  }
 ],
 "metadata": {
  "kernelspec": {
   "display_name": "Python 3 (ipykernel)",
   "language": "python",
   "name": "python3"
  },
  "language_info": {
   "codemirror_mode": {
    "name": "ipython",
    "version": 3
   },
   "file_extension": ".py",
   "mimetype": "text/x-python",
   "name": "python",
   "nbconvert_exporter": "python",
   "pygments_lexer": "ipython3",
   "version": "3.11.5"
  }
 },
 "nbformat": 4,
 "nbformat_minor": 5
}
